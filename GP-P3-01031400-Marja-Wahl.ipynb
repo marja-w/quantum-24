{
 "cells": [
  {
   "cell_type": "markdown",
   "id": "5a94587286f49817",
   "metadata": {},
   "source": [
    "# Quanvolutional Neural Networks for Image Classification\n",
    "\n",
    "*Marja Wahl, CSC 586A Grad Project Quantum Algorithms 2024, supervised by Prof. Hausi Müller*"
   ]
  },
  {
   "cell_type": "markdown",
   "id": "1f03d535",
   "metadata": {},
   "source": [
    "<!---\n",
    "new typesetting commands for easier braket notation\n",
    "-->\n",
    "$$\\newcommand{\\ket}[1]{\\left|{#1}\\right\\rangle}$$\n",
    "$$\\newcommand{\\bra}[1]{\\left\\langle{#1}\\right|}$$\n",
    "$$\\newcommand{\\braket}[2]{\\left\\langle{#1}\\middle|{#2}\\right\\rangle}$$"
   ]
  },
  {
   "cell_type": "markdown",
   "id": "cbc523c01e635f7c",
   "metadata": {},
   "source": [
    "# Problem Specification\n",
    "\n",
    "<div>\n",
    "<img src=\"https://images.datacamp.com/image/upload/v1663850409/Binary_classification_task_ec3247c7d2.png\" width=\"500\" height=\"300\"/>\n",
    "</div>\n",
    "\n",
    "Image classification describes the task of analyzing an image and predicting a certain label based on the analysis results. For example, an image of a handwritten digit can function as input, and the algorithm tries to correctly assign one of the 10 digits."
   ]
  },
  {
   "cell_type": "markdown",
   "id": "f11bb58ae9f5c3ff",
   "metadata": {},
   "source": [
    "## How do we represent an image?"
   ]
  },
  {
   "cell_type": "code",
   "execution_count": 37,
   "id": "7e97d0b9485bb732",
   "metadata": {
    "ExecuteTime": {
     "end_time": "2024-04-01T20:09:28.153782900Z",
     "start_time": "2024-04-01T20:09:27.983151700Z"
    }
   },
   "outputs": [
    {
     "data": {
      "text/plain": [
       "(28, 28)"
      ]
     },
     "execution_count": 37,
     "metadata": {},
     "output_type": "execute_result"
    }
   ],
   "source": [
    "from tensorflow import keras\n",
    "\n",
    "mnist_dataset = keras.datasets.mnist\n",
    "(train_images, train_labels), (test_images, test_labels) = mnist_dataset.load_data()\n",
    "\n",
    "train_images[0].shape  # get one to show dimensions"
   ]
  },
  {
   "cell_type": "markdown",
   "id": "9cc0f4c7f89d876f",
   "metadata": {},
   "source": [
    "The image is represented as a 2-dimensional array of pixel values. Each pixel value corresponds to a specific color, depending on the encoding. For the MNIST dataset, this is set to values from 0 to 255 on a gray scale. "
   ]
  },
  {
   "cell_type": "code",
   "execution_count": 3,
   "id": "8849bd1dad095a8f",
   "metadata": {
    "ExecuteTime": {
     "end_time": "2024-04-01T20:09:18.392873500Z",
     "start_time": "2024-04-01T20:09:17.323127600Z"
    }
   },
   "outputs": [
    {
     "data": {
      "image/png": "[encoded data removed]",
      "text/plain": [
       "<Figure size 640x480 with 1 Axes>"
      ]
     },
     "metadata": {},
     "output_type": "display_data"
    }
   ],
   "source": [
    "import matplotlib.pyplot as plt\n",
    "\n",
    "plt.imshow(train_images[0], cmap=plt.get_cmap('gray'))\n",
    "plt.title(str(train_labels[0]))\n",
    "\n",
    "plt.show()"
   ]
  },
  {
   "cell_type": "markdown",
   "id": "e8be3c018004e504",
   "metadata": {},
   "source": [
    "# Learning on Image Data with CNNs"
   ]
  },
  {
   "cell_type": "markdown",
   "id": "eebb7b9a2e5edf7a",
   "metadata": {},
   "source": [
    "Convolutional neural networks (CNN) are popular models in the field of image and video recognition. They excel at recognizing hierarchical features in images, because of the many filters that are applied to the input. Each filter is trained individually and able to focus on independent elements of an image. For example, [Lecun et al.](https://ieeexplore.ieee.org/abstract/document/726791?casa_token=5JSfq9YtiwMAAAAA:Cq5CgHZw8afNnMo_FCjHYhETpyKrGujFfKAdMw01bGTHwsMLmEt-JMJj-k0e0BdNF0VoKJITxA) were one of the first to apply CNNs on the [MNIST](https://git-disl.github.io/GTDLBench/datasets/mnist_datasets/) dataset, where they classified hand-written digits. \n",
    "\n",
    "## Architecture\n",
    "\n",
    "<div>\n",
    "<img src=\"https://saturncloud.io/images/blog/a-cnn-sequence-to-classify-handwritten-digits.webp\" width=\"600\" height=\"300\"/>\n",
    "</div>\n",
    "\n",
    "### Convolution Layer \n",
    "\n",
    "The [classical CNN](https://towardsdatascience.com/a-comprehensive-guide-to-convolutional-neural-networks-the-eli5-way-3bd2b1164a53) is a [neural network](https://towardsdatascience.com/machine-learning-for-beginners-an-introduction-to-neural-networks-d49f22d238f9) architecture, which is adapted to work with image data as input. The main difference to a classic neural netowrk is the added **convolution layer**. This layer processes the input, the pixels of an image, by convoluting it with a specific kernel function, which is moved over the image data with a predefined stride. Convoluting means performing element-wise matrix multiplication between target area and kernel matrix. The weights of the kernel functions are learned and updated in each training step.\n",
    "\n",
    "![convolution](https://saturncloud.io/images/blog/convoluting-a-5x5x1-image-with-a-3x3x1-kernel-to-get-a-3x3x1-convolved-feature.gif)\n",
    "\n",
    "The number $n$ of kernels is a hyperparameter, deciding how many different local patterns can be learned. In order to avoid learning the same $n$ patterns, the creation of the kernel functions is randomized. This process makes it possible for the network to identify local features, as well as handle the amount of pixels that exist in large images."
   ]
  },
  {
   "cell_type": "markdown",
   "id": "c6d9b876",
   "metadata": {},
   "source": [
    "### Pooling Layer\n",
    "\n",
    "Usually, after each convolutional layer, a pooling layer is implemented. This layer is structured similarly to a convolution layer, but instead of a trainable kernel matrix, a pooling function is applied on the target area. Typical functions are max or mean. The layer is added to additionally reduce the dimensions of the input."
   ]
  },
  {
   "cell_type": "markdown",
   "id": "cf5e9652",
   "metadata": {},
   "source": [
    "### Fully-connected Layer\n",
    "\n",
    "Finally, after convolving and reducing the input data to a reasonable size, the data is flattened and input to a fully-connected neural network layer. Depending on the task that is performed with the CNN, an activation is chosen. For example, for classification, we can use a softmax activation function, which assigns a probability distribution to our output nodes.\n",
    "\n",
    "For more details about CNNs you can look at this [website](https://saturncloud.io/blog/a-comprehensive-guide-to-convolutional-neural-networks-the-eli5-way/)."
   ]
  },
  {
   "cell_type": "markdown",
   "id": "aa39dad8433e205c",
   "metadata": {},
   "source": [
    "## Applications\n",
    "\n",
    "The CNN is used for a long list of tasks, including image classification, object detection, facial recognition, and image segmentation. These tasks are essential for applications like automated driving or medical image analysis. Aside from ethical concerns, the main issue with self-driving cars is the vehicles ability to identify moving objects correctly. The accuracy of the CNN used for this task is therefore crucial in the success of the automated vehicle. In the medical field, CNNs can be used to analyze X-rays, MRIs, or CT scans. They are able to identify tumors or fractures, can segment images according to tissues and different structures, or improve the quality of medical images.\n",
    "\n",
    "CNNs can also be used in Natural Language Processing (NLP) or Signal Processing. NLP tasks that can be solved by using CNNs are text classification and sentiment analysis, by converting text into image-like representations. CNNs can also be used to process signals like audio, radar, and sonar data.\n",
    "\n",
    "Overall, CNNs have a great variety of applications. Improving the achievable accuracy and performance is of major importance for the advance of artificial intelligence. Therefore, I find it most interesting how quantum computing can be used to leverage the performance of such models. \n",
    " "
   ]
  },
  {
   "cell_type": "markdown",
   "id": "63f484f3d7c7d744",
   "metadata": {},
   "source": [
    "# What is a Quanvolutional Neural Network?"
   ]
  },
  {
   "cell_type": "markdown",
   "id": "9a08cb82e67d8fe5",
   "metadata": {},
   "source": [
    "Quantum Convolutional Networks, or Quanvolutional Neural Networks (QNNs), were first introduced by [Henderson et al. (2019)](https://arxiv.org/abs/1904.04767). They combine the idea of convolution with quantum computing, resulting in a novel quantum convolution layer. "
   ]
  },
  {
   "cell_type": "markdown",
   "id": "465bd0756572c196",
   "metadata": {},
   "source": [
    "A QNN is a CNN with added quanvolutional layers. The **quanvolutional layers** proposed by [Henderson et al.](https://arxiv.org/abs/1904.04767) work similar to convolutional layers, but instead of $n$ kernel functions, they use $N$ quantum filters. The quantum filters are applied on local areas of the image like their classical counterparts, but are implemented using random quantum circuits. \n",
    "\n",
    "The authors hypothesize that the random quanvolutional circuits increase the accuracy of the machine learning models for classification purposes, as they are able to efficiently model high dimensional kernel functions and complex functional relationships, as pointed out by [Mitari et al.](https://journals.aps.org/pra/abstract/10.1103/PhysRevA.98.032309). The quantum circuit may be able to generate kernels that are too complicated for classical convolution. "
   ]
  },
  {
   "cell_type": "markdown",
   "id": "a22e97a0",
   "metadata": {},
   "source": [
    "<div>\n",
    "<img src=\"imgs/qnn_architecture.png\" width=\"600\" height=\"300\"/>\n",
    "</div>"
   ]
  },
  {
   "cell_type": "markdown",
   "id": "9500203a52e13258",
   "metadata": {},
   "source": [
    "The quanvolutional layer is portrayed in the figure above. In this example, a 2x2 square of the image input is embedded into a quantum circuit. The authors use a $3x3$ quanvolutional filter in their experiment. The input values are encoded by applying parametrized rotations to the qubits. For determining their initial state, the authors set the qubits to $\\ket{1}$, if the input value is above a certain threshold, in this case 0. Otherwise, the state is set to $\\ket{0}$. As a next step, a random quantum gate $U$ is applied. Finally, each qubit is measured and the result is decoded. The paper implements post-processing by summing all measured classical ones to a scalar value. \n",
    "\n",
    "The random quantum circuit is implemented by viewing each qubit as a node in a graph and assigning a connection probability between each qubit. This probability is then used as the likelihood of applying a 2-qubit gate from the set of CNot, Swap, SqrtSwap, or ControlledU gate. If a 2-qubit gate is applied, it is randomly picked. In any case, a 1-qubit gate is applied to each of the qubits, randomly selected from the gate set $[X(\\theta), Y(\\theta), Z(\\theta), U(\\theta), P, T, H]$. $\\theta$ is chosen randomly as well. After all gates are set, the order of applying them is randomized. "
   ]
  },
  {
   "cell_type": "markdown",
   "id": "61aabb82",
   "metadata": {},
   "source": [
    "The advantages of this approach are that the number of quantum bits needed are small, with shallow gate depths. Also, the quanvolutions are resilient to error, as long as the error is consistent. This results from the fact that the quantum circuits are supposed to be random, where a consistent error can be seen as a random factor. Also, the data is not needed to be stored into QRAM, since it is input to the circuits during runtime. "
   ]
  },
  {
   "cell_type": "markdown",
   "id": "4bf1eca4",
   "metadata": {},
   "source": [
    "## Experiment on MNIST Data\n",
    "\n",
    "In order to verify if QNNs provide a quantum advantage, the authors performed an experiment on the MNIST dataset. This dataset consists of 60,000 train and 10,000 test images of handwritten digits. The input dimensions of the single images are 28x28. \n",
    "\n",
    "The three models that were trained and then tested on the test dataset were a CNN model, QNN model, and a RANDOM model. The QNN model used a single quanvolutional layer as first layer, whereas the rest of the architecture stayed the same compared to the CNN. The RANDOM model used a purely classical random non-linear transformation instead of the quanvolutional layer of the QNN. The experiment was performed on the QxBranch Quantum Computer Simulation System. \n",
    "\n",
    "<div>\n",
    "<img src=\"imgs/qnn_results.png\" width=\"300\" height=\"300\"/>\n",
    "</div>\n",
    "\n",
    "As a result, the CNN is outperformed by both of the other models. Yet, the QNN is not able to outperform the purely classical RANDOM model. This implies that the quantum advantage is not fully achieved yet, since the non-linear transformations introduced by the quantum filters can also be introduced classically. "
   ]
  },
  {
   "cell_type": "markdown",
   "id": "ea51d7f5",
   "metadata": {},
   "source": [
    "# Findings and Challenges\n",
    "\n",
    "The QNN does not achieve quantum advantage over a purely classical solution. Another limitation is that, if the quanvolutional filters are positioned after layers with trainable parameters, $N$ quantum transformations have to occur every training step per layer. \n",
    "\n",
    "Overall, the QNN approach enables many interesting future research questions. For example, it is unclear how the specific encoding and decoding mechanisms influence the performance of the model. Also, it would be interesting to know if a specific gate set for the random circuit creation works better on certain datasets. Additionally, specifically crafted quantum circuits for each filter could be compared to the random filter approach. It would be helpful to know which properties are classically difficult to simulate, and then use QNNs for these cases, to gain quantum advantage. \n",
    "\n",
    "Further experiments were conducted after the publishing of the QNN paper by Henderson et al. For example, [Houssein et al.](https://academic.oup.com/jcde/article/9/2/343/6537164) implement a quantum-classical convolution pipeline for COVID-19 prediction in 2022. The authors use the quanvolutional layer proposed by Henderson et al. for preprocessing the image data of chest X-ray images to predict whether a patient has COVID-19. It is able to outperform the classical model in some cases, performing binary classification.\n",
    "\n",
    "Using machine learning for aiding health care experts in their decisions is what interests me the most about the field. I am curious to see how the marriage of quantum computing and classical machine learning can improve our state of the art model performances. Improving accuracy and runtime are both significant ways of accessing faster and more precise health care. "
   ]
  },
  {
   "cell_type": "markdown",
   "id": "e9a8e74488c67e0",
   "metadata": {},
   "source": [
    "# Implementation"
   ]
  },
  {
   "cell_type": "markdown",
   "id": "cd8e2558539cbbe7",
   "metadata": {},
   "source": [
    "Implementation from the [Pennylane.ai](https://pennylane.ai/qml/demos/tutorial_quanvolution/#classical-convolution) website. It requires *PennyLane* with the *TensorFlow* interface and the plotting library *matplotlib*.\n",
    "\n",
    "<div>\n",
    "<img src=\"https://pennylane.ai/_images/circuit3.png\" width=\"400\" height=\"200\"/>\n",
    "</div>\n",
    "\n",
    "The structure of the model implemented in this section can be seen in the figure above. In the code example, the raw expectation values are used, what results in a multiple channel representation of the input image. "
   ]
  },
  {
   "cell_type": "code",
   "execution_count": 5,
   "id": "7ca17f8d18045726",
   "metadata": {
    "ExecuteTime": {
     "end_time": "2024-03-19T14:53:03.912037200Z",
     "start_time": "2024-03-19T14:53:03.850838100Z"
    }
   },
   "outputs": [],
   "source": [
    "import pennylane as qml\n",
    "from pennylane import numpy as np\n",
    "from pennylane.templates import RandomLayers\n",
    "import tensorflow as tf\n",
    "from tensorflow import keras\n",
    "import matplotlib.pyplot as plt"
   ]
  },
  {
   "cell_type": "markdown",
   "id": "c69c3b4f0ef565fe",
   "metadata": {},
   "source": [
    "## Prepare dataset"
   ]
  },
  {
   "cell_type": "markdown",
   "id": "3ad6182db472813a",
   "metadata": {},
   "source": [
    "Set the hyper-parameters for the training of the main CNN model"
   ]
  },
  {
   "cell_type": "code",
   "execution_count": 26,
   "id": "25de405a08aa6040",
   "metadata": {
    "ExecuteTime": {
     "end_time": "2024-03-19T00:28:20.616200300Z",
     "start_time": "2024-03-19T00:28:20.603985400Z"
    }
   },
   "outputs": [],
   "source": [
    "n_epochs = 30  # Number of optimization epochs\n",
    "n_layers = 1  # Number of random layers\n",
    "runs = 5  # Number of runs for training\n",
    "\n",
    "n_train = 1000  # Size of the train dataset\n",
    "n_test = 100  # Size of the test dataset\n",
    "\n",
    "SAVE_PATH = \"./assets/\"  # Data saving folder\n",
    "PREPROCESS = True  # If False, skip quantum processing and load data from SAVE_PATH\n",
    "np.random.seed(0)  # Seed for NumPy random number generator\n",
    "tf.random.set_seed(0)  # Seed for TensorFlow random number generator"
   ]
  },
  {
   "cell_type": "markdown",
   "id": "219c31b8f1eaedaf",
   "metadata": {},
   "source": [
    "The dataset that we will test the QNN on is the MNIST dataset. It is a dataset consisting of images of handwritten digits. For performance reasons, we will only use a subset of the data."
   ]
  },
  {
   "cell_type": "code",
   "execution_count": 8,
   "id": "13154bac3feea4c1",
   "metadata": {
    "ExecuteTime": {
     "end_time": "2024-03-19T00:31:23.707544600Z",
     "start_time": "2024-03-19T00:31:23.526496200Z"
    }
   },
   "outputs": [],
   "source": [
    "mnist_dataset = keras.datasets.mnist\n",
    "(train_images, train_labels), (test_images, test_labels) = mnist_dataset.load_data()\n",
    "\n",
    "# Reduce dataset size\n",
    "train_images = train_images[:n_train]\n",
    "train_labels = train_labels[:n_train]\n",
    "test_images = test_images[:n_test]\n",
    "test_labels = test_labels[:n_test]"
   ]
  },
  {
   "cell_type": "markdown",
   "id": "d8c9f2e8c84301b4",
   "metadata": {},
   "source": [
    "We can look at one of the training images. Each image is represented by a 28x28 numpy array, with values from 0 to 255, each value representing a value on the gray scale"
   ]
  },
  {
   "cell_type": "code",
   "execution_count": 9,
   "id": "da0bda4e0ffb2039",
   "metadata": {
    "ExecuteTime": {
     "end_time": "2024-03-19T00:28:20.819643600Z",
     "start_time": "2024-03-19T00:28:20.802753400Z"
    }
   },
   "outputs": [
    {
     "name": "stdout",
     "output_type": "stream",
     "text": [
      "Train: X=(1000, 28, 28), y=(1000,)\n",
      "Test: X=(100, 28, 28), y=(100,)\n"
     ]
    }
   ],
   "source": [
    "# summarize loaded dataset\n",
    "print('Train: X=%s, y=%s' % (train_images.shape, train_labels.shape))\n",
    "print('Test: X=%s, y=%s' % (test_images.shape, test_labels.shape))"
   ]
  },
  {
   "cell_type": "markdown",
   "id": "2f5bd5360f43deed",
   "metadata": {},
   "source": [
    "We can plot the first 9 images in our training dataset and add their labels as the plots titles"
   ]
  },
  {
   "cell_type": "code",
   "execution_count": 10,
   "id": "e399b1204693f064",
   "metadata": {
    "ExecuteTime": {
     "end_time": "2024-03-19T00:28:20.819643600Z",
     "start_time": "2024-03-19T00:28:20.819643600Z"
    }
   },
   "outputs": [
    {
     "data": {
      "image/png": "[encoded data removed]",
      "text/plain": [
       "<Figure size 640x480 with 9 Axes>"
      ]
     },
     "metadata": {},
     "output_type": "display_data"
    }
   ],
   "source": [
    "for i in range(9):\n",
    "    # define subplot\n",
    "    plt.subplot(330 + 1 + i)\n",
    "    # plot raw pixel data\n",
    "    plt.imshow(train_images[i], cmap=plt.get_cmap('gray'))\n",
    "    plt.title(str(train_labels[i]))\n",
    "# show the figure\n",
    "plt.show()"
   ]
  },
  {
   "cell_type": "markdown",
   "id": "4c6832dcd07cce0c",
   "metadata": {},
   "source": [
    "Normalization is used in Machine Learning to transform features to be on a similar scale. This improves the performance and training stability of the model."
   ]
  },
  {
   "cell_type": "code",
   "execution_count": 11,
   "id": "908b63341477419d",
   "metadata": {
    "ExecuteTime": {
     "end_time": "2024-03-19T00:28:59.964029300Z",
     "start_time": "2024-03-19T00:28:59.916913100Z"
    }
   },
   "outputs": [],
   "source": [
    "# Normalize pixel values within 0 and 1\n",
    "train_images = train_images / 255\n",
    "test_images = test_images / 255"
   ]
  },
  {
   "cell_type": "code",
   "execution_count": 12,
   "id": "60a186febc767126",
   "metadata": {
    "ExecuteTime": {
     "start_time": "2024-03-19T00:28:20.819643600Z"
    }
   },
   "outputs": [
    {
     "name": "stdout",
     "output_type": "stream",
     "text": [
      "Train: X=(1000, 28, 28, 1), y=(1000,)\n",
      "Test: X=(100, 28, 28, 1), y=(100,)\n"
     ]
    }
   ],
   "source": [
    "# Add extra dimension for convolution channels\n",
    "train_images = np.array(train_images[..., tf.newaxis], requires_grad=False)\n",
    "test_images = np.array(test_images[..., tf.newaxis], requires_grad=False)\n",
    "\n",
    "print('Train: X=%s, y=%s' % (train_images.shape, train_labels.shape))\n",
    "print('Test: X=%s, y=%s' % (test_images.shape, test_labels.shape))"
   ]
  },
  {
   "cell_type": "markdown",
   "id": "3a73c71b9b73fb05",
   "metadata": {},
   "source": [
    "## Quantum circuit as a convolution kernel"
   ]
  },
  {
   "cell_type": "markdown",
   "id": "23f8ab68e8e3fcb9",
   "metadata": {},
   "source": [
    "We create quantum circuits acting as 2x2 convolution kernels. We encode the classical input values in form of $R_y$ gates with angles scaled by factor of $\\pi$, and implement the random quantum circuit with the ``RandomLayers`` class, which creates layers of randomly chosen single qubit rotations and 2-qubit entangling gates, acting on randomly chosen qubits, and random weights ``rand_params``"
   ]
  },
  {
   "cell_type": "code",
   "execution_count": 13,
   "id": "b7a331e153ccb322",
   "metadata": {
    "ExecuteTime": {
     "end_time": "2024-03-19T00:28:20.819643600Z",
     "start_time": "2024-03-19T00:28:20.819643600Z"
    }
   },
   "outputs": [
    {
     "name": "stdout",
     "output_type": "stream",
     "text": [
      "0: ──RY(9.87)──╭RandomLayers(M0)─┤  <Z>\n",
      "1: ──RY(4.93)──├RandomLayers(M0)─┤  <Z>\n",
      "2: ──RY(19.74)─├RandomLayers(M0)─┤  <Z>\n",
      "3: ──RY(29.61)─╰RandomLayers(M0)─┤  <Z>\n",
      "\n",
      "M0 = \n",
      "[[3.72495259 5.30467815 5.3906313  5.32343968]]\n"
     ]
    }
   ],
   "source": [
    "dev = qml.device(\"default.qubit\", wires=4)\n",
    "# Random circuit parameters\n",
    "rand_params = np.random.uniform(high=2 * np.pi, size=(n_layers, 4))\n",
    "\n",
    "@qml.qnode(dev)\n",
    "def circuit(phi):\n",
    "    # Encoding of 4 classical input values\n",
    "    for j in range(4):\n",
    "        qml.RY(np.pi * phi[j], wires=j)\n",
    "\n",
    "    # Random quantum circuit\n",
    "    RandomLayers(rand_params, wires=list(range(4)))\n",
    "\n",
    "    # Measurement producing 4 classical output values\n",
    "    return [qml.expval(qml.PauliZ(j)) for j in range(4)]\n",
    "\n",
    "drawer = qml.draw(circuit, decimals=2, show_all_wires=True)\n",
    "print(drawer([np.pi * 1, np.pi * 0.5, np.pi * 2, np.pi * 3]))  # circuit for example input"
   ]
  },
  {
   "cell_type": "markdown",
   "id": "24054ef6462acd62",
   "metadata": {},
   "source": [
    "The next function implements the convolution scheme, where the input image (the handwritten digit) is divided into squares of 2x2 pixels, each square is processed by the quantum circuit ``circuit()``, and the $4$ expectation values are mapped into $4$ different channels of a single output pixel"
   ]
  },
  {
   "cell_type": "code",
   "execution_count": 14,
   "id": "b096af3cfa0e0b5a",
   "metadata": {
    "ExecuteTime": {
     "end_time": "2024-03-19T00:28:20.834149500Z",
     "start_time": "2024-03-19T00:28:20.819643600Z"
    }
   },
   "outputs": [],
   "source": [
    "def quanv(image):\n",
    "    \"\"\"Convolves the input image with many applications of the same quantum circuit.\"\"\"\n",
    "    out = np.zeros((14, 14, 4))\n",
    "\n",
    "    # Loop over the coordinates of the top-left pixel of 2X2 squares\n",
    "    for j in range(0, 28, 2):\n",
    "        for k in range(0, 28, 2):\n",
    "            # Process a squared 2x2 region of the image with a quantum circuit\n",
    "            q_results = circuit(\n",
    "                [\n",
    "                    image[j, k, 0],\n",
    "                    image[j, k + 1, 0],\n",
    "                    image[j + 1, k, 0],\n",
    "                    image[j + 1, k + 1, 0]\n",
    "                ]\n",
    "            )\n",
    "            # Assign expectation values to different channels of the output pixel (j/2, k/2)\n",
    "            for c in range(4):\n",
    "                out[j // 2, k // 2, c] = q_results[c]\n",
    "    return out"
   ]
  },
  {
   "cell_type": "markdown",
   "id": "1030c103ed8326c3",
   "metadata": {},
   "source": [
    "## Quantum pre-processing of the dataset\n",
    "\n",
    "Since the parameters of the quantum kernels are random, we do not have to include the kernels in the training process. Hence, it is more performant to pre-process the data with the quantum circuits and then train the CNN on it. "
   ]
  },
  {
   "cell_type": "code",
   "execution_count": 18,
   "id": "2673de96322e2c14",
   "metadata": {
    "ExecuteTime": {
     "start_time": "2024-03-19T00:28:20.819643600Z"
    }
   },
   "outputs": [],
   "source": [
    "if PREPROCESS == True:\n",
    "    q_train_images = []\n",
    "    print(\"Quantum pre-processing of train images:\")\n",
    "    for idx, img in enumerate(train_images):\n",
    "        print(\"{}/{}        \".format(idx + 1, n_train), end=\"\\r\")\n",
    "        q_train_images.append(quanv(img))\n",
    "    q_train_images = np.asarray(q_train_images)\n",
    "\n",
    "    q_test_images = []\n",
    "    print(\"\\nQuantum pre-processing of test images:\")\n",
    "    for idx, img in enumerate(test_images):\n",
    "        print(\"{}/{}        \".format(idx + 1, n_test), end=\"\\r\")\n",
    "        q_test_images.append(quanv(img))\n",
    "    q_test_images = np.asarray(q_test_images)\n",
    "\n",
    "    # Save pre-processed images\n",
    "    np.save(SAVE_PATH + \"q_train_images.npy\", q_train_images)\n",
    "    np.save(SAVE_PATH + \"q_test_images.npy\", q_test_images)\n",
    "\n",
    "# Load pre-processed images\n",
    "q_train_images = np.load(SAVE_PATH + \"q_train_images.npy\")\n",
    "q_test_images = np.load(SAVE_PATH + \"q_test_images.npy\")"
   ]
  },
  {
   "cell_type": "markdown",
   "id": "311fe28cb3c77fb4",
   "metadata": {},
   "source": [
    "Each quantum kernel results in one channel for the original image, therefore we get $n=4$ channels for each sample"
   ]
  },
  {
   "cell_type": "code",
   "execution_count": 19,
   "id": "93b582569cb1ed82",
   "metadata": {
    "ExecuteTime": {
     "end_time": "2024-03-19T00:28:20.912314900Z",
     "start_time": "2024-03-19T00:28:20.834149500Z"
    }
   },
   "outputs": [
    {
     "data": {
      "image/png": "[encoded data removed]",
      "text/plain": [
       "<Figure size 1000x1000 with 20 Axes>"
      ]
     },
     "metadata": {},
     "output_type": "display_data"
    }
   ],
   "source": [
    "n_samples = 4\n",
    "n_channels = 4\n",
    "fig, axes = plt.subplots(1 + n_channels, n_samples, figsize=(10, 10))\n",
    "for k in range(n_samples):\n",
    "    axes[0, 0].set_ylabel(\"Input\")\n",
    "    if k != 0:\n",
    "        axes[0, k].yaxis.set_visible(False)\n",
    "    axes[0, k].imshow(train_images[k, :, :, 0], cmap=\"gray\")\n",
    "\n",
    "    # Plot all output channels\n",
    "    for c in range(n_channels):\n",
    "        axes[c + 1, 0].set_ylabel(\"Output [ch. {}]\".format(c))\n",
    "        if k != 0:\n",
    "            axes[c, k].yaxis.set_visible(False)\n",
    "        axes[c + 1, k].imshow(q_train_images[k, :, :, c], cmap=\"gray\")\n",
    "\n",
    "plt.tight_layout()\n",
    "plt.show()"
   ]
  },
  {
   "cell_type": "markdown",
   "id": "1ccfa39b4b3b31a0",
   "metadata": {},
   "source": [
    "Each quantum kernel distorts the original image, but the global shape is preserved"
   ]
  },
  {
   "cell_type": "markdown",
   "id": "ab4954ab8e53fb9f",
   "metadata": {},
   "source": [
    "## Hybrid quantum-classical model\n",
    "\n",
    "The resulting features are fed into a neural network architecture with one fully connected layer. For each input image, it outputs a probabability for each digit, hence the 10 outputs with a softmax activation function. The model is optimized on the accuracy metric, which defines how many predictions are right out of all of them"
   ]
  },
  {
   "cell_type": "code",
   "execution_count": 20,
   "id": "7ea0952aafc7fed5",
   "metadata": {
    "ExecuteTime": {
     "start_time": "2024-03-19T00:28:20.834149500Z"
    }
   },
   "outputs": [],
   "source": [
    "def ClassifierNN():\n",
    "    \"\"\"Initializes and returns a custom Keras model\n",
    "    which is ready to be trained.\"\"\"\n",
    "    model = keras.models.Sequential([\n",
    "        keras.layers.Flatten(),\n",
    "        keras.layers.Dense(10, activation=\"softmax\")\n",
    "        # one fully connected layer with 10 output nodes and softmax activation\n",
    "    ])\n",
    "\n",
    "    model.compile(\n",
    "        optimizer='adam',\n",
    "        loss=\"sparse_categorical_crossentropy\",\n",
    "        metrics=[\"accuracy\"],\n",
    "    )\n",
    "    return model"
   ]
  },
  {
   "cell_type": "markdown",
   "id": "311439086405e00d",
   "metadata": {},
   "source": [
    "Extended model with two convolutional layers"
   ]
  },
  {
   "cell_type": "code",
   "execution_count": 30,
   "id": "ba67faba",
   "metadata": {},
   "outputs": [],
   "source": [
    "def ClassifierCNN():\n",
    "    model = keras.models.Sequential([\n",
    "        keras.layers.Conv2D(64, kernel_size=3, activation=\"relu\", input_shape=(28, 28, 1)),\n",
    "        keras.layers.Conv2D(32, kernel_size=3, activation=\"relu\"),\n",
    "        keras.layers.Flatten(),\n",
    "        keras.layers.Dense(10, activation=\"softmax\")\n",
    "    ])\n",
    "\n",
    "    model.compile(\n",
    "        optimizer='adam',\n",
    "        loss=\"sparse_categorical_crossentropy\",\n",
    "        metrics=[\"accuracy\"],\n",
    "    )\n",
    "    return model"
   ]
  },
  {
   "cell_type": "code",
   "execution_count": 31,
   "id": "df26c18f9dbcf67a",
   "metadata": {
    "ExecuteTime": {
     "start_time": "2024-03-19T00:28:20.834149500Z"
    }
   },
   "outputs": [],
   "source": [
    "def ClassifierQCNN():\n",
    "    model = keras.models.Sequential([\n",
    "        keras.layers.Conv2D(64, kernel_size=3, activation=\"relu\", input_shape=(14, 14, 4)),\n",
    "        keras.layers.Conv2D(32, kernel_size=3, activation=\"relu\"),\n",
    "        keras.layers.Flatten(),\n",
    "        keras.layers.Dense(10, activation=\"softmax\")\n",
    "    ])\n",
    "\n",
    "    model.compile(\n",
    "        optimizer='adam',\n",
    "        loss=\"sparse_categorical_crossentropy\",\n",
    "        metrics=[\"accuracy\"],\n",
    "    )\n",
    "    return model"
   ]
  },
  {
   "cell_type": "markdown",
   "id": "d99d31c5",
   "metadata": {},
   "source": [
    "## Model Training\n",
    "\n",
    "The models are then trained on the quantum pre-processed data and original data for comparison. The following creates the training routine, where we train ``n_runs`` number of models and average the accuracy and loss of those. This is to prevent from receiving performance results from a particularly bad or good model by chance."
   ]
  },
  {
   "cell_type": "code",
   "execution_count": 27,
   "id": "6ced3ecb",
   "metadata": {},
   "outputs": [],
   "source": [
    "from operator import add\n",
    "\n",
    "def train_model(model_class, train_data, train_labels, val_data, epochs, runs):\n",
    "    accuracy_histories_summed = [0] * epochs\n",
    "    loss_histories_summed = [0] * epochs\n",
    "    for i in range(runs):\n",
    "        model = model_class()\n",
    "        print(f\"Run {i+1}\")\n",
    "        history = model.fit(\n",
    "            train_data,\n",
    "            train_labels,\n",
    "            validation_data=val_data,\n",
    "            batch_size=4,\n",
    "            epochs=epochs,\n",
    "            verbose=2,\n",
    "        )\n",
    "        accuracy_histories_summed = list(map(add, accuracy_histories_summed, history.history[\"val_accuracy\"]))\n",
    "        loss_histories_summed = list(map(add, loss_histories_summed, history.history[\"val_loss\"]))\n",
    "\n",
    "    avg_accuracy_history = list(map(lambda x: x/runs, accuracy_histories_summed))\n",
    "    avg_loss_history = list(map(lambda x: x/runs, loss_histories_summed))\n",
    "    return model, avg_accuracy_history, avg_loss_history"
   ]
  },
  {
   "cell_type": "markdown",
   "id": "83507d06",
   "metadata": {},
   "source": [
    "### Train on Quantum Data"
   ]
  },
  {
   "cell_type": "code",
   "execution_count": null,
   "id": "44cffb58e46ddaa9",
   "metadata": {},
   "outputs": [],
   "source": [
    "q_model, q_history_accuracy, q_history_loss = train_model(\n",
    "    model_class=ClassifierNN,\n",
    "    train_data=q_train_images, \n",
    "    train_labels=train_labels, \n",
    "    val_data=(q_test_images, test_labels), \n",
    "    epochs=n_epochs, \n",
    "    runs=runs)"
   ]
  },
  {
   "cell_type": "code",
   "execution_count": null,
   "id": "35158eb4",
   "metadata": {
    "scrolled": true
   },
   "outputs": [],
   "source": [
    "qcn_model, qcn_history_acc, qcn_history_loss = train_model(\n",
    "    model_class=ClassifierQCNN, \n",
    "    train_data=q_train_images, \n",
    "    train_labels=train_labels, \n",
    "    val_data=(q_test_images, test_labels), \n",
    "    epochs=n_epochs, \n",
    "    runs=runs)"
   ]
  },
  {
   "cell_type": "markdown",
   "id": "dda825d7",
   "metadata": {},
   "source": [
    "### Train on original data"
   ]
  },
  {
   "cell_type": "markdown",
   "id": "4b44ed5ad17e63e7",
   "metadata": {},
   "source": [
    "Model trained on the original data for comparison"
   ]
  },
  {
   "cell_type": "code",
   "execution_count": null,
   "id": "bf447437b05cd6b1",
   "metadata": {},
   "outputs": [],
   "source": [
    "c_model, c_history_acc, c_history_loss = train_model(\n",
    "    model_class=ClassifierNN, \n",
    "    train_data=train_images, \n",
    "    train_labels=train_labels, \n",
    "    val_data=(test_images, test_labels), \n",
    "    epochs=n_epochs, \n",
    "    runs=runs)"
   ]
  },
  {
   "cell_type": "code",
   "execution_count": null,
   "id": "c402a67e",
   "metadata": {},
   "outputs": [],
   "source": [
    "ccn_model, ccn_history_acc, ccn_history_loss = train_model(\n",
    "    model_class=ClassifierCNN, \n",
    "    train_data=train_images, \n",
    "    train_labels=train_labels, \n",
    "    val_data=(test_images, test_labels), \n",
    "    epochs=n_epochs, \n",
    "    runs=runs)"
   ]
  },
  {
   "cell_type": "markdown",
   "id": "ebc1b214247966db",
   "metadata": {},
   "source": [
    "## Results\n",
    "\n",
    "We compare the results of both, the quantum and the classical model"
   ]
  },
  {
   "cell_type": "code",
   "execution_count": 35,
   "id": "b02080f85bcd34a5",
   "metadata": {
    "ExecuteTime": {
     "start_time": "2024-03-19T00:28:20.834149500Z"
    }
   },
   "outputs": [
    {
     "name": "stderr",
     "output_type": "stream",
     "text": [
      "C:\\Users\\Marja\\AppData\\Local\\Temp\\ipykernel_11792\\3418284085.py:3: MatplotlibDeprecationWarning: The seaborn styles shipped by Matplotlib are deprecated since 3.6, as they no longer correspond to the styles shipped by seaborn. However, they will remain available as 'seaborn-v0_8-<style>'. Alternatively, directly use the seaborn API instead.\n",
      "  plt.style.use(\"seaborn\")\n"
     ]
    },
    {
     "data": {
      "image/png": "[encoded data removed]",
      "text/plain": [
       "<Figure size 600x900 with 2 Axes>"
      ]
     },
     "metadata": {},
     "output_type": "display_data"
    }
   ],
   "source": [
    "import matplotlib.pyplot as plt\n",
    "\n",
    "plt.style.use(\"seaborn\")\n",
    "fig, (ax1, ax2) = plt.subplots(2, 1, figsize=(6, 9))\n",
    "\n",
    "ax1.plot(q_history_accuracy, \"-ob\", label=\"With quantum layer\")\n",
    "ax1.plot(c_history_acc, \"-og\", label=\"Without quantum layer\")\n",
    "ax1.plot(qcn_history_acc, \"-oy\", label=\"With quantum layer + CNN layers\")\n",
    "ax1.plot(ccn_history_acc, \"-or\", label=\"Without quantum layer + CNN layers\")\n",
    "ax1.set_ylabel(\"Accuracy\")\n",
    "ax1.set_ylim([0, 1])\n",
    "ax1.set_xlabel(\"Epoch\")\n",
    "ax1.legend()\n",
    "\n",
    "ax2.plot(q_history_loss, \"-ob\", label=\"With quantum layer\")\n",
    "ax2.plot(c_history_loss, \"-og\", label=\"Without quantum layer\")\n",
    "ax2.plot(qcn_history_loss, \"-oy\", label=\"With quantum layer + CNN layers\")\n",
    "ax2.plot(ccn_history_loss, \"-or\", label=\"Without quantum layer + CNN layers\")\n",
    "ax2.set_ylabel(\"Loss\")\n",
    "ax2.set_ylim(top=2.5)\n",
    "ax2.set_xlabel(\"Epoch\")\n",
    "ax2.legend()\n",
    "plt.tight_layout()\n",
    "plt.show()"
   ]
  },
  {
   "cell_type": "markdown",
   "id": "53b93d6a84143c79",
   "metadata": {},
   "source": [
    "# References"
   ]
  },
  {
   "cell_type": "markdown",
   "id": "4b487d5324b99f84",
   "metadata": {},
   "source": [
    "- [Henderson, Maxwell, et al. \"Quanvolutional neural networks: powering image recognition with quantum circuits.\" Quantum Machine Intelligence 2.1 (2020)](https://arxiv.org/abs/1904.04767): paper introducing the QNN\n",
    "- [Mari, Andrea \"Quanvolutional Neural Networks\" PennyLane.ai (2020)](https://pennylane.ai/qml/demos/tutorial_quanvolution/#classical-convolution): slightly adapted implementation of the QNN in PennyLane\n",
    "- [Houssein et al. \"Hybrid quantum-classical convolutional neural network model for COVID-19 prediction using chest X-ray images\" Journal of Computational Design and Engineering (2022)](https://academic.oup.com/jcde/article/9/2/343/6537164): application of the proposed hybrid model\n",
    "- [Liu, Junhua, et al. \"Hybrid quantum-classical convolutional neural networks.\" Science China Physics, Mechanics & Astronomy 64.9 (2021)](https://link.springer.com/article/10.1007/s11433-021-1734-3): this proposed QCNN is built similar to the one presented in the paper by Henderson et al., it is tested on another dataset\n",
    "- [Mitarai, Kosuke, et al. \"Quantum circuit learning.\" Physical Review A 98.3 (2018)](https://journals.aps.org/pra/abstract/10.1103/PhysRevA.98.032309): another application of quantum machine learning, a quantum circuit learns a given task by tuning parameters implemented on it\n",
    "- [Cong, I., Choi, S. & Lukin, M.D. Quantum convolutional neural networks. Nat. Phys. 15, 1273–1278 (2019)](https://www.nature.com/articles/s41567-019-0648-8#Sec8): another approach of integrating quantum computing and convolutional neural networks, where the whole CNN is approximated by using a quantum circuit\n",
    "- [Li, YaoChong, et al. \"A quantum deep convolutional neural network for image recognition.\" Quantum Science and Technology 5.4 (2020)](https://iopscience.iop.org/article/10.1088/2058-9565/ab9f93/pdf): another approach of imitating a CNN with a quantum circuit\n",
    "- [Lecun et al. \"Gradient-based learning applied to document recognition\" in Proceedings of the IEEE (1998)](https://ieeexplore.ieee.org/abstract/document/726791?casa_token=5JSfq9YtiwMAAAAA:Cq5CgHZw8afNnMo_FCjHYhETpyKrGujFfKAdMw01bGTHwsMLmEt-JMJj-k0e0BdNF0VoKJITxA): one of the first papers to demonstrate the effectiveness of CNNs for image recognition tasks\n",
    "- [MNIST Dataset](https://git-disl.github.io/GTDLBench/datasets/mnist_datasets/)"
   ]
  }
 ],
 "metadata": {
  "kernelspec": {
   "display_name": "Python 3 (ipykernel)",
   "language": "python",
   "name": "python3"
  },
  "language_info": {
   "codemirror_mode": {
    "name": "ipython",
    "version": 3
   },
   "file_extension": ".py",
   "mimetype": "text/x-python",
   "name": "python",
   "nbconvert_exporter": "python",
   "pygments_lexer": "ipython3",
   "version": "3.11.5"
  }
 },
 "nbformat": 4,
 "nbformat_minor": 5
}
